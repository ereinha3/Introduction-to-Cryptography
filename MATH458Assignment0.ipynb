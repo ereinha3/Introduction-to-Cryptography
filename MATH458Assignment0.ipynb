{
 "cells": [
  {
   "cell_type": "markdown",
   "metadata": {},
   "source": [
    "This assignment is to help you assess whether Math 458 is the right course for you.  The way I teach Math 458 requires a sort of unique combination of mathematical understanding and computer programming ability.\n",
    "\n",
    "Do the following problems by editing this Jupyter notebook.  You can (and indeed must) use a combination of mathematical reasoning and computer programming to solve these problems. You might find it handy to use numpy and/or scipy (and, later, matplotlib.pyplot for drawing pictures).\n",
    "\n",
    "You can use existing internet resources as references, as long as you properly cite them.  Please do not solicit outside help (say, by posting part of this assignment on the internet, hiring someone from Chegg to solve the problems, etc).\n",
    "\n",
    "You should do the work yourself, possibly consulting other 458 students.  Indeed I *hope* you work together to solve these problems.  Moreover, I'm happy to answer any questions you might have, but remember, this assignment is for testing whether Math 458 is going to take up too much of your time to make it worthwhile.\n"
   ]
  },
  {
   "cell_type": "markdown",
   "metadata": {},
   "source": [
    "# Problem 1\n",
    "\n",
    "I am thinking of two numbers, $p$ and $q$.  I think they're probably prime numbers, but am not going to guarantee that.  All I'm going to tell you is that\n",
    "\n",
    "$$\n",
    "pq = 113078212145816597093331040047546788522120878272217517785833436022837373529\n",
    "$$\n",
    "\n",
    "and \n",
    "\n",
    "$$\n",
    "(p-1)\\cdot(q-1) = 113078212145816597093331040047546788500853230339658863819372523058351859984\n",
    "$$\n",
    "\n",
    "What are $p$ and $q$?"
   ]
  },
  {
   "cell_type": "raw",
   "metadata": {},
   "source": [
    "𝑝𝑞 = 113078212145816597093331040047546788522120878272217517785833436022837373529\n",
    "\n",
    "pq-p-q+1 = 113078212145816597093331040047546788500853230339658863819372523058351859984\n",
    "\n",
    "-p-q = 113078212145816597093331040047546788500853230339658863819372523058351859984 - 113078212145816597093331040047546788522120878272217517785833436022837373529 - 1\n",
    "\n",
    "p+q = 21267647932558653966460912964485513546\n",
    "\n",
    "p = 21267647932558653966460912964485513546 - q\n",
    "\n",
    "(21267647932558653966460912964485513546 - q)(q) = 113078212145816597093331040047546788522120878272217517785833436022837373529\n",
    "\n",
    "-q^2 + 21267647932558653966460912964485513546q - 113078212145816597093331040047546788522120878272217517785833436022837373529 = 0\n",
    "\n",
    "q = (-21267647932558653966460912964485513546 +- (21267647932558653966460912964485513546^2-4(-1)(-113078212145816597093331040047546788522120878272217517785833436022837373529))^(1/2))/2(-1)\n",
    "\n",
    "q = (21267647932558653966460912964485513546 -+ ((21267647932558653966460912964485513546)^2-4(113078212145816597093331040047546788522120878272217517785833436022837373529))^(1/2))/2\n",
    "\n",
    "p = 113078212145816597093331040047546788522120878272217517785833436022837373529/q"
   ]
  },
  {
   "cell_type": "code",
   "execution_count": 14,
   "metadata": {
    "scrolled": true
   },
   "outputs": [
    {
     "name": "stdout",
     "output_type": "stream",
     "text": [
      "10633823966279326983230456482242756773.0\n",
      "True\n",
      "10633823966279326983230456482242756773.0\n",
      "10633823966279326983230456482242756773.0\n",
      "True\n"
     ]
    }
   ],
   "source": [
    "from mpmath import mp\n",
    "import math\n",
    "mp.dps = 150\n",
    "print(mp.sqrt(pq))\n",
    "pq     = 113078212145816597093331040047546788522120878272217517785833436022837373529\n",
    "p_1q_1 = 113078212145816597093331040047546788500853230339658863819372523058351859984\n",
    "paddq  = pq-p_1q_1+1\n",
    "discr = mp.sqrt((paddq**2)-(4*pq))\n",
    "p = (paddq + discr)/2\n",
    "q = pq/p\n",
    "print(p*q==pq)\n",
    "print(p)\n",
    "print(q)\n",
    "print(p==q)"
   ]
  },
  {
   "cell_type": "markdown",
   "metadata": {},
   "source": [
    "I first factored (p-1)(q-1) to get pq-p-q+1. I then plugged pq value given into this to find p+q. I isolated p and then plugged p into pq to get a quadratic equation involving only q. Using the quadratic formula, I determined q to be 10633823966279326983230456482242756773. I then divided pq by q to get p which was actually equal to q."
   ]
  },
  {
   "cell_type": "markdown",
   "metadata": {},
   "source": [
    "# Problem 2\n",
    "\n",
    "Find the sum of all prime numbers $p$ that are between 1 and 50 million.  Note: 1 isn't prime.  Use the Sieve of Eratosthenes (if you don't know what that is, look it up!)\n"
   ]
  },
  {
   "cell_type": "code",
   "execution_count": 8,
   "metadata": {},
   "outputs": [
    {
     "name": "stdout",
     "output_type": "stream",
     "text": [
      "72619548630277\n"
     ]
    }
   ],
   "source": [
    "# inspiration : https://www.geeksforgeeks.org/sieve-of-eratosthenes/\n",
    "import array as array\n",
    "i = 2\n",
    "fifty = 50000000\n",
    "array = array.array(\"i\", [1] * fifty)\n",
    "array[0] = 0\n",
    "while (i*i)<=fifty:\n",
    "    if array[i-1]==1:\n",
    "        temp = i*i-1\n",
    "        while (temp<fifty):\n",
    "            array[temp] = 0\n",
    "            temp+=i\n",
    "    i+=1\n",
    "summation = 0\n",
    "x = 1\n",
    "while x<=len(array)-1:\n",
    "    if array[x-1]==1:\n",
    "        summation += x\n",
    "    x+=1\n",
    "print(summation)\n",
    "        \n",
    "        "
   ]
  },
  {
   "cell_type": "markdown",
   "metadata": {},
   "source": [
    "I used the Sieve of Eratosthenes algorithm to create an array of size 50 million. I then iterated over each successive prime number and changed the value of 1 in the array to a value of 0 for each multiple of a prime (which would not be a prime itself). Once this entire array had been created, with 1s in the position of each prime, I iterated over it with a counter to keep track of my index and added up all the values in the array with 1s, which would all be prime numbers. The number of iterations was 50 million so the loop had to check 50 million entries and keep a counter for each iteration, adding up the counter at each iteration if the number at the spot was prime. "
   ]
  },
  {
   "cell_type": "markdown",
   "metadata": {},
   "source": [
    "# Problem 3\n",
    "\n",
    "Let $A$ be the 10 by 10 matrix $$A = [a_{ij}]_{1 \\leq i,j \\leq 10}$$ where $$a_{ij} = ij + i + j.$$\n",
    "\n",
    "Describe the nullspace of $A$ - that is, the vector space consisting of all solutions to $Ax=\\vec{0}$.\n"
   ]
  },
  {
   "cell_type": "code",
   "execution_count": 19,
   "metadata": {},
   "outputs": [
    {
     "name": "stdout",
     "output_type": "stream",
     "text": [
      "[0, 1, 2, 3, 4, 5, 6, 7, 8, 9]\n",
      "[1, 0, -1, -2, -3, -4, -5, -6, -7, -8]\n",
      "[0, 0, 0, 0, 0, 0, 0, 0, 0, 0]\n",
      "[0, 0, 0, 0, 0, 0, 0, 0, 0, 0]\n",
      "[0, 0, 0, 0, 0, 0, 0, 0, 0, 0]\n",
      "[0, 0, 0, 0, 0, 0, 0, 0, 0, 0]\n",
      "[0, 0, 0, 0, 0, 0, 0, 0, 0, 0]\n",
      "[0, 0, 0, 0, 0, 0, 0, 0, 0, 0]\n",
      "[0, 0, 0, 0, 0, 0, 0, 0, 0, 0]\n",
      "[0, 0, 0, 0, 0, 0, 0, 0, 0, 0]\n"
     ]
    }
   ],
   "source": [
    "array = [[0 for a in range(10)] for b in range(10)]\n",
    "for a in range(10):\n",
    "    for b in range(10):\n",
    "        stored = a*b + a + b\n",
    "        array[a][b] = stored\n",
    "for i in range(8):\n",
    "    for index in range(10):\n",
    "        array[i+2][index] -= (array[1][index]*(i+2))\n",
    "for i in range(8):\n",
    "    for index in range(10):\n",
    "        array[i+2][index] += array[0][index]*(i+1)\n",
    "for index in range(10):\n",
    "    array[1][index] -= (array[0][index]*3)\n",
    "for row in array:\n",
    "    print(row)"
   ]
  },
  {
   "cell_type": "markdown",
   "metadata": {},
   "source": [
    "The array above is the row-reduced form of the nullspace of A. Attached is the explicitly detailed column space of the nullspace of A. \n",
    "[1 , 2 , 3 , 4 , 5 , 6 , 7 , 8]\n",
    "[-2, -3, -4, -5, -6, -7, -8, -9]\n",
    "[1 , 0 , 0 , 0 , 0 , 0 , 0 , 0]\n",
    "[0 , 1 , 0 , 0 , 0 , 0 , 0 , 0]\n",
    "[0 , 0 , 1 , 0 , 0 , 0 , 0 , 0]\n",
    "[0 , 0 , 0 , 1 , 0 , 0 , 0 , 0]\n",
    "[0 , 0 , 0 , 0 , 1 , 0 , 0 , 0]\n",
    "[0 , 0 , 0 , 0 , 0 , 1 , 0 , 0]\n",
    "[0 , 0 , 0 , 0 , 0 , 0 , 1 , 0]\n",
    "[0 , 0 , 0 , 0 , 0 , 0 , 0 , 1]"
   ]
  }
 ],
 "metadata": {
  "kernelspec": {
   "display_name": "Python 3 (ipykernel)",
   "language": "python",
   "name": "python3"
  },
  "language_info": {
   "codemirror_mode": {
    "name": "ipython",
    "version": 3
   },
   "file_extension": ".py",
   "mimetype": "text/x-python",
   "name": "python",
   "nbconvert_exporter": "python",
   "pygments_lexer": "ipython3",
   "version": "3.10.9"
  }
 },
 "nbformat": 4,
 "nbformat_minor": 2
}
